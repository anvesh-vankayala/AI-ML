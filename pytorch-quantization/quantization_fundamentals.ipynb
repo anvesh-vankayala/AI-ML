{
  "nbformat": 4,
  "nbformat_minor": 0,
  "metadata": {
    "colab": {
      "provenance": [],
      "authorship_tag": "ABX9TyMLZYHqy5Ipyzdb1JfCmxGr",
      "include_colab_link": true
    },
    "kernelspec": {
      "name": "python3",
      "display_name": "Python 3"
    },
    "language_info": {
      "name": "python"
    }
  },
  "cells": [
    {
      "cell_type": "markdown",
      "metadata": {
        "id": "view-in-github",
        "colab_type": "text"
      },
      "source": [
        "<a href=\"https://colab.research.google.com/github/anvesh-vankayala/AI-ML/blob/main/pytorch-quantization/quantization_fundamentals.ipynb\" target=\"_parent\"><img src=\"https://colab.research.google.com/assets/colab-badge.svg\" alt=\"Open In Colab\"/></a>"
      ]
    },
    {
      "cell_type": "markdown",
      "source": [
        "## Quantization\n",
        "  - It is the process of reducing the size of data.\n",
        "  - It uses mapping function to convert floating point to integer space."
      ],
      "metadata": {
        "id": "GGXiAr-ZKLGy"
      }
    },
    {
      "cell_type": "code",
      "source": [],
      "metadata": {
        "id": "EhHpMUfVKjC4"
      },
      "execution_count": null,
      "outputs": []
    }
  ]
}