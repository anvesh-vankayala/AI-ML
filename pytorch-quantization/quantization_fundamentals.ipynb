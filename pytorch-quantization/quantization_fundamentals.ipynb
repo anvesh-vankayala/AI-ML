{
  "nbformat": 4,
  "nbformat_minor": 0,
  "metadata": {
    "colab": {
      "provenance": [],
      "authorship_tag": "ABX9TyM+uVmn1NUimbhto2yLCypS",
      "include_colab_link": true
    },
    "kernelspec": {
      "name": "python3",
      "display_name": "Python 3"
    },
    "language_info": {
      "name": "python"
    }
  },
  "cells": [
    {
      "cell_type": "markdown",
      "metadata": {
        "id": "view-in-github",
        "colab_type": "text"
      },
      "source": [
        "<a href=\"https://colab.research.google.com/github/anvesh-vankayala/AI-ML/blob/main/pytorch-quantization/quantization_fundamentals.ipynb\" target=\"_parent\"><img src=\"https://colab.research.google.com/assets/colab-badge.svg\" alt=\"Open In Colab\"/></a>"
      ]
    },
    {
      "cell_type": "markdown",
      "source": [
        "## Quantization\n",
        "  - It is the process of reducing the size of data.\n",
        "  - It uses mapping function to convert floating point to integer space."
      ],
      "metadata": {
        "id": "GGXiAr-ZKLGy"
      }
    },
    {
      "cell_type": "code",
      "source": [
        "## Simple quantization mapping functions\n",
        "\n",
        "import math\n",
        "\n",
        "print(math.ceil(3.124))\n",
        "print(math.floor(5.5612))\n",
        "print(round(4.61))"
      ],
      "metadata": {
        "colab": {
          "base_uri": "https://localhost:8080/"
        },
        "id": "EhHpMUfVKjC4",
        "outputId": "0fbee7c3-2973-495f-8d6e-972c06fd0f64"
      },
      "execution_count": 3,
      "outputs": [
        {
          "output_type": "stream",
          "name": "stdout",
          "text": [
            "4\n",
            "5\n",
            "5\n"
          ]
        }
      ]
    },
    {
      "cell_type": "markdown",
      "source": [
        "Note : **In general DNN parameters are in floating point numbers, using quantization we can represent them as 8-bit(or can be lower) integers.**"
      ],
      "metadata": {
        "id": "EF4pn66YLpkS"
      }
    },
    {
      "cell_type": "markdown",
      "source": [
        "## Quantization of Neural network\n",
        "   - Load pretrained weights, in this ex: Resnet model\n",
        "   - Quantize last layer, from scratch (which is fully connected layers acts as classifier)\n",
        "   - Comparing the accuracy and perfomance of the original model and quantized model."
      ],
      "metadata": {
        "id": "MhjL9rH8MNom"
      }
    },
    {
      "cell_type": "code",
      "source": [],
      "metadata": {
        "id": "hsXJruDUMMs9"
      },
      "execution_count": null,
      "outputs": []
    },
    {
      "cell_type": "code",
      "source": [],
      "metadata": {
        "id": "z9_76P4_LiyH"
      },
      "execution_count": 3,
      "outputs": []
    }
  ]
}